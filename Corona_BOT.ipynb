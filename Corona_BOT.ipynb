 <table align="left">
  <td>
    <a target="_blank" href="https://colab.research.google.com/drive/1rkVTRYOTDXJBADLXp5e0s2whqj-5DxgA#scrollTo=6ZWiJGkPuccj"><img src="https://colab.research.google.com/img/colab_favicon_256px.png" />Run in Google Colab</a>
  </td>
 </table>

{
  "nbformat": 4,
  "nbformat_minor": 0,
  "metadata": {
    "colab": {
      "name": "Corona_BOT.ipynb",
      "provenance": [],
      "collapsed_sections": []
    },
    "kernelspec": {
      "name": "python3",
      "display_name": "Python 3"
    }
  },
  "cells": [
    {
      "cell_type": "code",
      "metadata": {
        "id": "iWV2q_tVHyCD",
        "colab_type": "code",
        "colab": {}
      },
      "source": [
        "#Import libraries\n",
        "from newspaper import Article\n",
        "import random\n",
        "import string\n",
        "from sklearn.feature_extraction.text import TfidfVectorizer\n",
        "from sklearn.metrics.pairwise import cosine_similarity\n",
        "import nltk\n",
        "from nltk.tokenize import word_tokenize\n",
        "import numpy as np\n",
        "import warnings"
      ],
      "execution_count": 0,
      "outputs": []
    },
    {
      "cell_type": "code",
      "metadata": {
        "id": "cvhRV8YWHyCJ",
        "colab_type": "code",
        "colab": {}
      },
      "source": [
        "#Ignore any warning messages\n",
        "warnings.filterwarnings('ignore')"
      ],
      "execution_count": 0,
      "outputs": []
    },
    {
      "cell_type": "code",
      "metadata": {
        "id": "4bwDz9pOHyCO",
        "colab_type": "code",
        "colab": {
          "base_uri": "https://localhost:8080/",
          "height": 34
        },
        "outputId": "cce085b3-bb18-45d5-a0a3-4ada98b2f7ff"
      },
      "source": [
        "#Download the packages from NLTK\n",
        "nltk.download('punkt', quiet=True)\n",
        "nltk.download('wordnet', quiet=True)"
      ],
      "execution_count": 13,
      "outputs": [
        {
          "output_type": "execute_result",
          "data": {
            "text/plain": [
              "True"
            ]
          },
          "metadata": {
            "tags": []
          },
          "execution_count": 13
        }
      ]
    },
    {
      "cell_type": "code",
      "metadata": {
        "id": "TFa7k2NwHyCi",
        "colab_type": "code",
        "colab": {}
      },
      "source": [
        "#text processing essential functions \n",
        "def GetArticle(url):\n",
        "  GetArticle = Article(url)\n",
        "  GetArticle.download()\n",
        "  GetArticle.parse()\n",
        "  GetArticle.nlp() \n",
        "  data = GetArticle.text\n",
        "  return (data)\n",
        "        #####################################################################################################################\n",
        "def Tokeneziation(question):\n",
        "  question_tokenized = word_tokenize(question)\n",
        "  return question_tokenized\n",
        "        #####################################################################################################################\n",
        "def remove_punct(question):\n",
        "  remove_punct_dict = dict(  ( ord(punct),None) for punct in string.punctuation)\n",
        "  return Tokeneziation(question.lower().translate(remove_punct_dict))\n",
        "        #####################################################################################################################\n",
        "\n",
        "\n",
        "        #####################################################################################################################\n",
        "\n",
        " "
      ],
      "execution_count": 0,
      "outputs": []
    },
    {
      "cell_type": "code",
      "metadata": {
        "id": "2pDqoo3k6gEy",
        "colab_type": "code",
        "colab": {}
      },
      "source": [
        "#scratching resources:\n",
        "L1=['https://github.com/ELG19/ELG19/blob/master/Are%20antibiotics%20effective%20in%20preventing%20or%20treating%20the%20COVID','antibiotics','preventing','treating']\n",
        "L2=['https://github.com/ELG19/ELG19/blob/master/Are%20there%20any%20medicines%20or%20therapies%20that%20can%20prevent%20or%20cure%20COVID','medicines','therapies','prevent','cure','therapy', 'medecine'] \n",
        "L3=['https://github.com/ELG19/ELG19/blob/master/Can%20CoVID-19%20be%20caught%20from%20a%20person%20who%20has%20no%20symptoms','caught','symptoms','catch']\n",
        "L4=['https://github.com/ELG19/ELG19/blob/master/Can%20I%20catch%20COVID%20from%20my%20pet','pet','catch']\n",
        "L5=['https://github.com/ELG19/ELG19/blob/master/Can%20I%20catch%20COVID-19%20from%20the%20feces%20of%20someone%20with%20the%20disease','feces','catch']\n",
        "L6=['https://github.com/ELG19/ELG19/blob/master/Can%20humans%20become%20infected%20with%20the%20COVID%20from%20an%20animal%20source','animal','catch','infect']\n",
        "L7=['https://github.com/ELG19/ELG19/blob/master/Can%20the%20virus%20that%20causes%20COVID%20be%20transmitted%20through%20the%20air','air','transmit','transmitted','transmitting']\n",
        "L8=['https://github.com/ELG19/ELG19/blob/master/How%20did%20the%20first%20human%20SARS%20infections%20occur','history','beginning']\n",
        "L9=['https://github.com/ELG19/ELG19/blob/master/How%20does%20COVID-19%20spread','spread','trasmit','infect']\n",
        "L10=['https://github.com/ELG19/ELG19/blob/master/How%20likely%20am%20I%20to%20catch%20COVID','catch','probability']\n",
        "L11=['https://github.com/ELG19/ELG19/blob/master/How%20long%20does%20the%20virus%20survive%20on%20surfaces','surface','long']\n",
        "L12=['https://github.com/ELG19/ELG19/blob/master/How%20long%20is%20the%20incubation%20period%20for%20COVID','incubation','period']\n",
        "L13=['https://github.com/ELG19/ELG19/blob/master/How%20to%20put%20on%2C%20use%20a%20mask','mask','wear'] \n",
        "L14=['https://github.com/ELG19/ELG19/blob/master/Is%20COVID%20the%20same%20as%20SARS','comparaison','sars']\n",
        "L15=['https://github.com/ELG19/ELG19/blob/master/Is%20COVID-19%20airborne','airbone','air']\n",
        "L16=['https://github.com/ELG19/ELG19/blob/master/Is%20it%20safe%20to%20receive%20a%20package%20from%20any%20area%20where%20COVID%20has%20been%20reported','receive','package','shopping','online']\n",
        "L17=['https://github.com/ELG19/ELG19/blob/master/Is%20the%20source%20of%20the%20coronavirus%20causing%20COVID%20known','source','bats','bat']\n",
        "L18=['https://github.com/ELG19/ELG19/blob/master/Is%20there%20anything%20I%20should%20not%20do','prohibition','advice']\n",
        "L19=['https://github.com/ELG19/ELG19/blob/master/Should%20I%20wear%20a%20mask%20to%20protect%20myself','protection','mask']\n",
        "L20=['https://github.com/ELG19/ELG19/blob/master/Should%20I%20worry%20about%20COVID','worries','worry','fear','panic']\n",
        "L21=['https://github.com/ELG19/ELG19/blob/master/What%20are%20the%20symptoms%20of%20COVID','symptoms']\n",
        "L22=['https://github.com/ELG19/ELG19/blob/master/What%20can%20I%20do%20to%20protect%20myself%20and%20prevent%20the%20spread%20of%20disease','protection','selfprotcetion','advice']\n",
        "L23=['https://github.com/ELG19/ELG19/blob/master/What%20is%20COVID','covid','corona','coronavirus','coronaviruses','overview']\n",
        "L24=['https://github.com/ELG19/ELG19/blob/master/What%20is%20a%20coronavirus%3F','covid','corona','coronavirus','coronaviruses','overview']\n",
        "L25=['https://github.com/ELG19/ELG19/blob/master/Who%20is%20at%20risk%20of%20developing%20severe%20illness','risk','severe','worsen','illness','desease']\n",
        "L=[L1,L2,L3,L4,L5,L6,L7,L8,L9,L10,L11,L12,L13,L14,L15,L16,L17,L18,L19,L20,L21,L22,L23,L24,L25]\n"
      ],
      "execution_count": 0,
      "outputs": []
    },
    {
      "cell_type": "code",
      "metadata": {
        "id": "6ZWiJGkPuccj",
        "colab_type": "code",
        "colab": {}
      },
      "source": [
        "#main_function\n",
        "def chatbot():\n",
        "  s=0\n",
        "  print ('Welcome to this TBE COVID-ChatBot. I will be so happy to be of assistance to you. Ask me your questions)\n",
        "\n",
        "  while True: \n",
        "    question = input()\n",
        "    question = remove_punct(question)\n",
        "    for i in range(len(question)):\n",
        "      for j in range(25):\n",
        "        for k in range(len(L[j])):\n",
        "          if question[i] == L[j][k] :\n",
        "            text = GetArticle(L[j][0])\n",
        "            print(text)\n",
        "            break\n",
        "          else :\n",
        "             k+=1\n",
        "chatbot()"
      ],
      "execution_count": 0,
      "outputs": []
    }
  ]
}
